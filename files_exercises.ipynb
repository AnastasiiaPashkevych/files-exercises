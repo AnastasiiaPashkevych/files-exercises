{
  "nbformat": 4,
  "nbformat_minor": 0,
  "metadata": {
    "colab": {
      "provenance": [],
      "authorship_tag": "ABX9TyNoJCXpdA6P8o03fQ4jRsrB",
      "include_colab_link": true
    },
    "kernelspec": {
      "name": "python3",
      "display_name": "Python 3"
    },
    "language_info": {
      "name": "python"
    }
  },
  "cells": [
    {
      "cell_type": "markdown",
      "metadata": {
        "id": "view-in-github",
        "colab_type": "text"
      },
      "source": [
        "<a href=\"https://colab.research.google.com/github/AnastasiiaPashkevych/files-exercises/blob/main/files_exercises.ipynb\" target=\"_parent\"><img src=\"https://colab.research.google.com/assets/colab-badge.svg\" alt=\"Open In Colab\"/></a>"
      ]
    },
    {
      "cell_type": "code",
      "execution_count": 3,
      "metadata": {
        "id": "UPdr-0XasVbK"
      },
      "outputs": [],
      "source": [
        "#Q1 Create a text file called mytxt.txt\n",
        "# Save the following content in the text file:\n",
        "# \"In this section, we will use Python's built-in open function to create a file\n",
        "# and obtain the data from a \"txt\" file.\n",
        "# We will use Python's open function to get a file object.\n",
        "# We can apply a method to that object to read data from the file.\n",
        "\n",
        "with open(\"mytxt.txt\", \"w\") as mytxt:\n",
        "    mytxt.write(\"In this section, we will use Python's built-in open function to create a file \\n\"\n",
        "                \"and obtain the data from a 'txt' file. \\n\"\n",
        "                \"We will use Python's open function to get a file object.\\n\"\n",
        "                \"We can apply a method to that object to read data from the file.\")"
      ]
    },
    {
      "cell_type": "code",
      "source": [
        "#Q1 Write a Python program to read the entire mytxt file\n",
        "\n",
        "with open (\"mytxt.txt\", \"r\") as mytxt:\n",
        "    print(mytxt.read())"
      ],
      "metadata": {
        "colab": {
          "base_uri": "https://localhost:8080/"
        },
        "id": "TBsZq4F4uG63",
        "outputId": "b4e13660-b0a4-4a52-9df6-7709e43a0e96"
      },
      "execution_count": 13,
      "outputs": [
        {
          "output_type": "stream",
          "name": "stdout",
          "text": [
            "In this section, we will use Python's built-in open function to create a file \n",
            "and obtain the data from a 'txt' file. \n",
            "We will use Python's open function to get a file object.\n",
            "We can apply a method to that object to read data from the file.\n"
          ]
        }
      ]
    },
    {
      "cell_type": "code",
      "source": [
        "#Q2 Write a Python program to read last 3 lines of mytxt file\n",
        "\n",
        "with open(\"mytxt.txt\", \"r\") as mytxt:\n",
        "    lines = mytxt.readlines()\n",
        "    print(\"\".join(lines[-3:]))"
      ],
      "metadata": {
        "colab": {
          "base_uri": "https://localhost:8080/"
        },
        "id": "obdVp3jCukY9",
        "outputId": "37805ae8-4169-4984-abd7-a989db386a7f"
      },
      "execution_count": 15,
      "outputs": [
        {
          "output_type": "stream",
          "name": "stdout",
          "text": [
            "and obtain the data from a 'txt' file. \n",
            "We will use Python's open function to get a file object.\n",
            "We can apply a method to that object to read data from the file.\n"
          ]
        }
      ]
    },
    {
      "cell_type": "code",
      "source": [
        "#Q3 Write a Python program to read last n lines of mytxt file\n",
        "#[Hint: write a function]\n",
        "\n",
        "def read_last_n_lines(file_path, n):\n",
        "  with open(file_path, 'r') as file:\n",
        "    lines = file.readlines()\n",
        "    print(\"\".join(lines[-n:]))\n",
        "\n",
        "read_last_n_lines(\"mytxt.txt\", 3)\n",
        "read_last_n_lines(\"mytxt.txt\", 5)"
      ],
      "metadata": {
        "colab": {
          "base_uri": "https://localhost:8080/"
        },
        "id": "rJ6uq9Aw-ZzT",
        "outputId": "1f30bdf8-7d4e-434a-8628-9fa5c7ca27f5"
      },
      "execution_count": 6,
      "outputs": [
        {
          "output_type": "stream",
          "name": "stdout",
          "text": [
            "and obtain the data from a 'txt' file. \n",
            "We will use Python's open function to get a file object.\n",
            "We can apply a method to that object to read data from the file.\n",
            "In this section, we will use Python's built-in open function to create a file \n",
            "and obtain the data from a 'txt' file. \n",
            "We will use Python's open function to get a file object.\n",
            "We can apply a method to that object to read data from the file.\n"
          ]
        }
      ]
    },
    {
      "cell_type": "code",
      "source": [
        "#Q4 count the number of lines in mytxt file\n",
        "\n",
        "with open(\"mytxt.txt\", \"r\") as mytxt:\n",
        "    lines = mytxt.readlines()\n",
        "    print(len(lines))"
      ],
      "metadata": {
        "colab": {
          "base_uri": "https://localhost:8080/"
        },
        "id": "LcrGFS4T_XmE",
        "outputId": "90ed460a-ba15-46c3-c7f8-773276879384"
      },
      "execution_count": 7,
      "outputs": [
        {
          "output_type": "stream",
          "name": "stdout",
          "text": [
            "4\n"
          ]
        }
      ]
    },
    {
      "cell_type": "code",
      "source": [
        "#Q5 Write a Python program to generate 26 text files named A.txt, B.txt,... Z.txt\n",
        "\n",
        "import string\n",
        "\n",
        "for letter in string.ascii_uppercase:\n",
        "    file_name = letter + \".txt\"\n",
        "    with open(file_name, \"w\") as file:\n",
        "        file.write(letter)"
      ],
      "metadata": {
        "id": "9FKAovQr_1z4"
      },
      "execution_count": 8,
      "outputs": []
    },
    {
      "cell_type": "code",
      "source": [
        "#Q6 Write a Python program to append \"End of file\" to mytxt file and\n",
        "# display the text\n",
        "\n",
        "with open(\"mytxt.txt\", \"a\") as mytxt:\n",
        "    mytxt.write(\"\\nEnd of file\")\n",
        "\n",
        "with open(\"mytxt.txt\", \"r\") as mytxt:\n",
        "    print(mytxt.read())"
      ],
      "metadata": {
        "colab": {
          "base_uri": "https://localhost:8080/"
        },
        "id": "Q7EGdVSTAMr_",
        "outputId": "89273e03-1712-4a12-fd1e-24f7f8111bd1"
      },
      "execution_count": 9,
      "outputs": [
        {
          "output_type": "stream",
          "name": "stdout",
          "text": [
            "In this section, we will use Python's built-in open function to create a file \n",
            "and obtain the data from a 'txt' file. \n",
            "We will use Python's open function to get a file object.\n",
            "We can apply a method to that object to read data from the file.\n",
            "End of file\n"
          ]
        }
      ]
    },
    {
      "cell_type": "code",
      "source": [
        "#Q7 Write a Python program to remove newline characters from mytxt file\n",
        "\n",
        "with open(\"mytxt.txt\", \"r\") as mytxt:\n",
        "    lines = mytxt.readlines()\n",
        "    cleaned_text = \"\".join(line.strip() for line in lines)\n",
        "    print(cleaned_text)"
      ],
      "metadata": {
        "colab": {
          "base_uri": "https://localhost:8080/"
        },
        "id": "FbSR_7ttAjHD",
        "outputId": "b3b777e0-c38b-49e6-ed9c-a90ac65a80cf"
      },
      "execution_count": 10,
      "outputs": [
        {
          "output_type": "stream",
          "name": "stdout",
          "text": [
            "In this section, we will use Python's built-in open function to create a fileand obtain the data from a 'txt' file.We will use Python's open function to get a file object.We can apply a method to that object to read data from the file.End of file\n"
          ]
        }
      ]
    },
    {
      "cell_type": "code",
      "source": [
        "# Q8 Write a python program to find the longest word in mytxt file\n",
        "\n",
        "with open(\"mytxt.txt\", \"r\") as mytxt:\n",
        "    words = mytxt.read().split()\n",
        "    longest_word = max(words, key=len)\n",
        "    print(f\"The longest word in mytxt.txt is: {longest_word}\")"
      ],
      "metadata": {
        "colab": {
          "base_uri": "https://localhost:8080/"
        },
        "id": "Xp1aHQqiBC8P",
        "outputId": "724a1afb-c2c1-4686-99ac-4e0ef1b9726a"
      },
      "execution_count": 11,
      "outputs": [
        {
          "output_type": "stream",
          "name": "stdout",
          "text": [
            "The longest word in mytxt.txt is: section,\n"
          ]
        }
      ]
    },
    {
      "cell_type": "code",
      "source": [
        "#Q9 Write a Python program to count the frequency \"We\" in mytxt file\n",
        "\n",
        "with open(\"mytxt.txt\", \"r\") as mytxt:\n",
        "    text = mytxt.read().lower()\n",
        "    word_count = text.count(\"we\")\n",
        "    print(f\"The frequency of 'We' in mytxt.txt is: {word_count}\")"
      ],
      "metadata": {
        "colab": {
          "base_uri": "https://localhost:8080/"
        },
        "id": "hZgR9HVjBXJg",
        "outputId": "8696a86b-d7ff-48f1-ae08-0e46493ac445"
      },
      "execution_count": 13,
      "outputs": [
        {
          "output_type": "stream",
          "name": "stdout",
          "text": [
            "The frequency of 'We' in mytxt.txt is: 3\n"
          ]
        }
      ]
    }
  ]
}